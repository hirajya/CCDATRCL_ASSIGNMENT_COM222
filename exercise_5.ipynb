{
  "cells": [
    {
      "cell_type": "markdown",
      "metadata": {
        "id": "view-in-github",
        "colab_type": "text"
      },
      "source": [
        "<a href=\"https://colab.research.google.com/github/hirajya/CCDATRCL_ASSIGNMENT_COM222/blob/main/exercise_5.ipynb\" target=\"_parent\"><img src=\"https://colab.research.google.com/assets/colab-badge.svg\" alt=\"Open In Colab\"/></a>"
      ]
    },
    {
      "cell_type": "markdown",
      "metadata": {
        "id": "DN15rkKvhGBr"
      },
      "source": [
        "# Exercise 5"
      ]
    },
    {
      "cell_type": "markdown",
      "metadata": {
        "id": "oEys_5t7hGBt"
      },
      "source": [
        "#### 1. Create a dictionary of your 10 favorite songs."
      ]
    },
    {
      "cell_type": "markdown",
      "metadata": {
        "id": "T1iOtzXshGBu"
      },
      "source": [
        "Example:\n",
        "\n",
        "|KEY|VALUE|\n",
        "|---|---|\n",
        "|001|My Love|\n",
        "|002|Like a rose|"
      ]
    },
    {
      "cell_type": "code",
      "execution_count": 4,
      "metadata": {
        "id": "dprOhMRchGBu"
      },
      "outputs": [],
      "source": [
        "songspogi = {\n",
        "    \"001\": \"Love Maze\",\n",
        "    \"002\": \"My Heart Will Go On\",\n",
        "    \"003\": \"Muli\",\n",
        "    \"004\": \"Hotdog\",\n",
        "    \"005\": \"Isa lang\",\n",
        "    \"006\": \"My Love\",\n",
        "    \"007\": \"Like a rose\",\n",
        "    \"008\": \"Merry go around of life\",\n",
        "    \"009\": \"Pagsamo\",\n",
        "    \"010\": \"Naalala kita\"\n",
        "}"
      ]
    },
    {
      "cell_type": "markdown",
      "metadata": {
        "id": "g1FstA7XhGBv"
      },
      "source": [
        "#### 2. Loop through the dictionary by its **key** and **value**"
      ]
    },
    {
      "cell_type": "code",
      "execution_count": 6,
      "metadata": {
        "id": "QgyUTiuHhGBv",
        "colab": {
          "base_uri": "https://localhost:8080/"
        },
        "outputId": "79218493-dc5e-4fbb-f3e4-c8602402e0cd"
      },
      "outputs": [
        {
          "output_type": "stream",
          "name": "stdout",
          "text": [
            "001 Love Maze\n",
            "002 My Heart Will Go On\n",
            "003 Muli\n",
            "004 Hotdog\n",
            "005 Isa lang\n",
            "006 My Love\n",
            "007 Like a rose\n",
            "008 Merry go around of life\n",
            "009 Pagsamo\n",
            "010 Naalala kita\n"
          ]
        }
      ],
      "source": [
        "for key, val in songspogi.items():\n",
        "  print(key, val)"
      ]
    },
    {
      "cell_type": "markdown",
      "metadata": {
        "id": "h5N_w8-yhGBw"
      },
      "source": [
        "#### 3. Add one additional song"
      ]
    },
    {
      "cell_type": "code",
      "execution_count": 11,
      "metadata": {
        "id": "oUXMAJWEhGBw",
        "colab": {
          "base_uri": "https://localhost:8080/"
        },
        "outputId": "8e4b50ce-f43e-4114-93bc-a9d435bd7de4"
      },
      "outputs": [
        {
          "output_type": "stream",
          "name": "stdout",
          "text": [
            "001 Love Maze\n",
            "002 My Heart Will Go On\n",
            "003 Muli\n",
            "004 Hotdog\n",
            "005 Isa lang\n",
            "006 My Love\n",
            "007 Like a rose\n",
            "008 Merry go around of life\n",
            "009 Pagsamo\n",
            "010 Naalala kita\n",
            "011 Maangas na kanta\n"
          ]
        }
      ],
      "source": [
        "songspogi[\"011\"] = \"Maangas na kanta\"\n",
        "\n",
        "for key, val in songspogi.items():\n",
        "  print(key, val)"
      ]
    },
    {
      "cell_type": "markdown",
      "metadata": {
        "id": "7OlW5r9dhGBx"
      },
      "source": [
        "#### 4. Remove one song"
      ]
    },
    {
      "cell_type": "code",
      "execution_count": 12,
      "metadata": {
        "id": "g39mqwpDhGBx",
        "colab": {
          "base_uri": "https://localhost:8080/"
        },
        "outputId": "d87aecc8-d80d-4007-e9de-a4383807300e"
      },
      "outputs": [
        {
          "output_type": "stream",
          "name": "stdout",
          "text": [
            "001 Love Maze\n",
            "002 My Heart Will Go On\n",
            "003 Muli\n",
            "004 Hotdog\n",
            "005 Isa lang\n",
            "006 My Love\n",
            "007 Like a rose\n",
            "008 Merry go around of life\n",
            "009 Pagsamo\n",
            "010 Naalala kita\n"
          ]
        }
      ],
      "source": [
        "songspogi.pop(\"011\")\n",
        "\n",
        "for key, val in songspogi.items():\n",
        "  print(key, val)"
      ]
    },
    {
      "cell_type": "markdown",
      "metadata": {
        "id": "gZ8Sr1bzhGBy"
      },
      "source": [
        "#### 5. Create a nested dictionary of your 10 favorite songs with 5 genres. Display all of the items of the nested dictionary\n",
        "\n",
        "- Each nested dictionary's key should be the genre of the song\n",
        "- Put each song in their respective genre"
      ]
    },
    {
      "cell_type": "markdown",
      "metadata": {
        "id": "US1ZaaSJhGBy"
      },
      "source": [
        "Example:\n",
        "\n",
        "\n",
        "|KEY|VALUE|\n",
        "|---|---|\n",
        "|Pop|{001, Baby}|\n",
        "|Rock|{001, Enter Sandman}|"
      ]
    },
    {
      "cell_type": "code",
      "execution_count": 14,
      "metadata": {
        "id": "z577KULkhGBz"
      },
      "outputs": [],
      "source": [
        "songs = {\n",
        "\n",
        "    \"Pop\": {\n",
        "        \"001\": \"Dance the night\", \"002\": \"Uptown Funk\", \"003\": \"Flowers\", \"004\": \"Counting Stars\"\n",
        "    },\n",
        "\n",
        "    \"Rock\": {\n",
        "        \"005\": \"Legends\", \"006\": \"Bohemian Rhapsoddy\", \"007\": \"Purple Haze\"\n",
        "    },\n",
        "\n",
        "    \"OPM\": {\n",
        "        \"008\": \"Ako nalang sana\", \"009\": \"Pagsamo\", \"010\": \"Isa lang\"\n",
        "    }\n",
        "\n",
        "}"
      ]
    },
    {
      "cell_type": "markdown",
      "metadata": {
        "id": "ZMgltzOkhGBz"
      },
      "source": [
        "#### 6. Print the first song of the first genre"
      ]
    },
    {
      "cell_type": "code",
      "execution_count": 16,
      "metadata": {
        "id": "nmXUGoNWhGBz",
        "colab": {
          "base_uri": "https://localhost:8080/"
        },
        "outputId": "18890a48-f92b-4047-85b7-06cb6ed2bde2"
      },
      "outputs": [
        {
          "output_type": "stream",
          "name": "stdout",
          "text": [
            "Dance the night\n"
          ]
        }
      ],
      "source": [
        "print(songs[\"Pop\"][\"001\"])"
      ]
    },
    {
      "cell_type": "markdown",
      "metadata": {
        "id": "dEcgwp_ihGB0"
      },
      "source": [
        "#### 7. Print the first song of the last genre"
      ]
    },
    {
      "cell_type": "code",
      "execution_count": 17,
      "metadata": {
        "id": "ITbuWq2UhGB0",
        "colab": {
          "base_uri": "https://localhost:8080/"
        },
        "outputId": "cfaf6830-6c68-48e2-ea76-37e7b32242e1"
      },
      "outputs": [
        {
          "output_type": "stream",
          "name": "stdout",
          "text": [
            "Counting Stars\n"
          ]
        }
      ],
      "source": [
        "print(songs[\"Pop\"][\"004\"])"
      ]
    }
  ],
  "metadata": {
    "kernelspec": {
      "display_name": "Python 3",
      "language": "python",
      "name": "python3"
    },
    "language_info": {
      "codemirror_mode": {
        "name": "ipython",
        "version": 3
      },
      "file_extension": ".py",
      "mimetype": "text/x-python",
      "name": "python",
      "nbconvert_exporter": "python",
      "pygments_lexer": "ipython3",
      "version": "3.11.4"
    },
    "orig_nbformat": 4,
    "colab": {
      "provenance": [],
      "include_colab_link": true
    }
  },
  "nbformat": 4,
  "nbformat_minor": 0
}
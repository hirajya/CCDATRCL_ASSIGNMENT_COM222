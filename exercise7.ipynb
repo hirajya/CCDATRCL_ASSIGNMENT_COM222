{
  "cells": [
    {
      "cell_type": "markdown",
      "metadata": {
        "id": "view-in-github",
        "colab_type": "text"
      },
      "source": [
        "<a href=\"https://colab.research.google.com/github/hirajya/CCDATRCL_ASSIGNMENT_COM222/blob/main/exercise7.ipynb\" target=\"_parent\"><img src=\"https://colab.research.google.com/assets/colab-badge.svg\" alt=\"Open In Colab\"/></a>"
      ]
    },
    {
      "cell_type": "markdown",
      "metadata": {
        "id": "e3Ja3uozAJlw"
      },
      "source": [
        "# Exercise 7"
      ]
    },
    {
      "cell_type": "code",
      "execution_count": 19,
      "metadata": {
        "id": "IW6uTwU8AJly"
      },
      "outputs": [],
      "source": [
        "class Node:\n",
        "    def __init__(self, item):\n",
        "        self.left = None\n",
        "        self.right = None\n",
        "        self.val = item"
      ]
    },
    {
      "cell_type": "code",
      "execution_count": 20,
      "metadata": {
        "id": "uxVFuimIAJlz"
      },
      "outputs": [],
      "source": [
        "def evaluateExpressionTree(root):\n",
        "\n",
        "    # empty tree\n",
        "    if root is None:\n",
        "        return 0\n",
        "\n",
        "    # leaf node\n",
        "    if root.left is None and root.right is None:\n",
        "        return int(root.val)\n",
        "\n",
        "    # evaluate left tree\n",
        "    left_sum = evaluateExpressionTree(root.left)\n",
        "\n",
        "    # evaluate right tree\n",
        "    right_sum = evaluateExpressionTree(root.right)\n",
        "\n",
        "    # check which operation to apply\n",
        "    if root.val == '+':\n",
        "        return left_sum + right_sum\n",
        "\n",
        "    elif root.val == '-':\n",
        "        return left_sum - right_sum\n",
        "\n",
        "    elif root.val == '*':\n",
        "        return left_sum * right_sum\n",
        "\n",
        "    else:\n",
        "        return left_sum // right_sum"
      ]
    },
    {
      "cell_type": "code",
      "execution_count": 21,
      "metadata": {
        "id": "-xWZXA-mAJl0"
      },
      "outputs": [],
      "source": [
        "def inorder(root):\n",
        "\n",
        "    if root:\n",
        "        # Traverse left\n",
        "        inorder(root.left)\n",
        "        # Traverse root\n",
        "        print(str(root.val) + \"->\", end='')\n",
        "        # Traverse right\n",
        "        inorder(root.right)"
      ]
    },
    {
      "cell_type": "markdown",
      "metadata": {
        "id": "CVtqxh5DAJl1"
      },
      "source": [
        "#### 1. Construct a binary expression tree\n",
        "\n",
        "$ (8 + 4) * (7 - 9) $"
      ]
    },
    {
      "cell_type": "code",
      "execution_count": 22,
      "metadata": {
        "id": "CxpP0zcVAJl1",
        "colab": {
          "base_uri": "https://localhost:8080/"
        },
        "outputId": "f28895e1-c29c-4ec1-87e4-4c480df18851"
      },
      "outputs": [
        {
          "output_type": "stream",
          "name": "stdout",
          "text": [
            "result: -24\n",
            "inorder: \n",
            "8->+->4->*->7->-->9->"
          ]
        }
      ],
      "source": [
        "node1 = Node(8)\n",
        "node2 = Node(4)\n",
        "node3 = Node(7)\n",
        "node4 = Node(9)\n",
        "\n",
        "arith1 = Node(\"+\")\n",
        "arith2 = Node(\"-\")\n",
        "arith3 = Node(\"*\")\n",
        "\n",
        "arith3.left = arith1\n",
        "arith3.right = arith2\n",
        "\n",
        "arith1.left = node1\n",
        "arith1.right = node2\n",
        "\n",
        "arith2.left = node3\n",
        "arith2.right = node4\n",
        "\n",
        "val = evaluateExpressionTree(arith3)\n",
        "print(f\"result: {val}\")\n",
        "print(f\"inorder: \")\n",
        "inorder(arith3)"
      ]
    },
    {
      "cell_type": "markdown",
      "metadata": {
        "id": "jc5KHLk6AJl2"
      },
      "source": [
        "#### 2. Construct a binary expression tree\n",
        "\n",
        "$ 5 / 8 + 3 - 6 * 1 $"
      ]
    },
    {
      "cell_type": "code",
      "execution_count": 23,
      "metadata": {
        "id": "XORzqkC3AJl2",
        "colab": {
          "base_uri": "https://localhost:8080/"
        },
        "outputId": "fd8778d0-c5ac-4d87-98c1-6c2d23378ca8"
      },
      "outputs": [
        {
          "output_type": "stream",
          "name": "stdout",
          "text": [
            "result: -3\n",
            "inorder: \n",
            "5->/->8->+->3->-->6->*->1->"
          ]
        }
      ],
      "source": [
        "node1 = Node(5)\n",
        "node2 = Node(8)\n",
        "node3 = Node(3)\n",
        "node4 = Node(6)\n",
        "node5 = Node(1)\n",
        "\n",
        "arith1 = Node(\"/\")\n",
        "arith2 = Node(\"+\")\n",
        "arith3 = Node(\"-\")\n",
        "arith4 = Node(\"*\")\n",
        "\n",
        "arith3.left = arith2\n",
        "arith3.right = arith4\n",
        "\n",
        "arith2.left = arith1\n",
        "arith2.right = node3\n",
        "\n",
        "arith1.left = node1\n",
        "arith1.right = node2\n",
        "\n",
        "arith4.left = node4\n",
        "arith4.right = node5\n",
        "\n",
        "val = evaluateExpressionTree(arith3)\n",
        "print(f\"result: {val}\")\n",
        "print(f\"inorder: \")\n",
        "inorder(arith3)"
      ]
    },
    {
      "cell_type": "markdown",
      "metadata": {
        "id": "tu3n5ZdWAJl2"
      },
      "source": [
        "#### 3. Construct a binary expression tree\n",
        "\n",
        "$ ((2 + 5) / 3)- (3 + 8) $"
      ]
    },
    {
      "cell_type": "code",
      "execution_count": 24,
      "metadata": {
        "id": "5GvZBxgtAJl3",
        "colab": {
          "base_uri": "https://localhost:8080/"
        },
        "outputId": "e9143af2-9e97-4f75-c591-fab82a44cb49"
      },
      "outputs": [
        {
          "output_type": "stream",
          "name": "stdout",
          "text": [
            "result: -9\n",
            "inorder: \n",
            "2->+->5->/->3->-->3->+->8->"
          ]
        }
      ],
      "source": [
        "node1 = Node(2)\n",
        "node2 = Node(5)\n",
        "node3 = Node(3)\n",
        "node4 = Node(3)\n",
        "node5 = Node(8)\n",
        "\n",
        "arith1 = Node(\"/\")\n",
        "arith2 = Node(\"+\")\n",
        "arith3 = Node(\"-\")\n",
        "arith4 = Node(\"+\")\n",
        "\n",
        "arith3.left = arith1\n",
        "arith3.right = arith2\n",
        "\n",
        "arith2.left = node4\n",
        "arith2.right = node5\n",
        "\n",
        "arith1.left = arith4\n",
        "arith1.right = node3\n",
        "\n",
        "arith4.left = node1\n",
        "arith4.right = node2\n",
        "\n",
        "val = evaluateExpressionTree(arith3)\n",
        "print(f\"result: {val}\")\n",
        "print(f\"inorder: \")\n",
        "inorder(arith3)"
      ]
    },
    {
      "cell_type": "code",
      "source": [],
      "metadata": {
        "id": "779qv4waJbym"
      },
      "execution_count": 24,
      "outputs": []
    }
  ],
  "metadata": {
    "kernelspec": {
      "display_name": "Python 3",
      "language": "python",
      "name": "python3"
    },
    "language_info": {
      "codemirror_mode": {
        "name": "ipython",
        "version": 3
      },
      "file_extension": ".py",
      "mimetype": "text/x-python",
      "name": "python",
      "nbconvert_exporter": "python",
      "pygments_lexer": "ipython3",
      "version": "3.11.4"
    },
    "orig_nbformat": 4,
    "colab": {
      "provenance": [],
      "include_colab_link": true
    }
  },
  "nbformat": 4,
  "nbformat_minor": 0
}